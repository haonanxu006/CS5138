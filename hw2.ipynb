{
 "cells": [
  {
   "cell_type": "code",
   "execution_count": 3,
   "id": "88294d2d-06a6-498a-bc37-7197ef62e58a",
   "metadata": {},
   "outputs": [],
   "source": [
    "# For Q4\n",
    "import numpy as np\n",
    "\n",
    "def si(s, k):\n",
    "    n, _ = s.shape\n",
    "    ev = gs(np.random.randn(n, k))\n",
    "    for _ in range(50):\n",
    "        z = np.dot(s, ev)\n",
    "        ev = gs(z)\n",
    "    return ev\n",
    "\n",
    "def gs(vectors):\n",
    "    # take vectors and output orthogonalized vectors with vi orthogonal to all vj where j < i\n",
    "    n, k = vectors.shape\n",
    "    res = np.zeros([n, k])\n",
    "    for i in range(k):\n",
    "        vi = vectors[:, i]\n",
    "        # orthogonalize each vector\n",
    "        for j in range(i):\n",
    "            vi -= np.dot(vi, res[:, j]) * res[:, j]\n",
    "        # normalize vi\n",
    "        vi /= np.linalg.norm(vi)\n",
    "        res[:, i] = vi\n",
    "    return res"
   ]
  },
  {
   "cell_type": "code",
   "execution_count": 5,
   "id": "8a83e2ce-a777-4f83-a708-529aae9a85ba",
   "metadata": {},
   "outputs": [
    {
     "name": "stdout",
     "output_type": "stream",
     "text": [
      "[[-0.23070176  0.36269967]\n",
      " [-0.25269971  0.25922591]\n",
      " [-0.29430783 -0.26709957]\n",
      " [-0.2559773  -0.29421257]\n",
      " [-0.20246705  0.28483222]\n",
      " [-0.33590104 -0.16085068]\n",
      " [-0.26116356  0.03267129]\n",
      " [-0.28663266 -0.27315308]\n",
      " [-0.18990832  0.27885013]\n",
      " [-0.19302698  0.30321021]\n",
      " [-0.25869226  0.14452184]\n",
      " [-0.22950741  0.29997571]\n",
      " [-0.1818477  -0.05549041]\n",
      " [-0.23315117 -0.27444648]\n",
      " [-0.32161843 -0.29849355]\n",
      " [-0.20689268  0.11225433]]\n"
     ]
    }
   ],
   "source": [
    "fm = np.array([\n",
    "    [0,1,0,0,1,0,0,0,1,1,1,1,0,0,0,0],\n",
    "    [1,0,0,0,1,1,1,0,0,1,0,1,0,0,0,0],\n",
    "    [0,0,0,1,0,1,0,1,0,0,1,0,0,1,1,0],\n",
    "    [0,0,1,0,0,1,0,1,0,0,0,0,0,1,1,0],\n",
    "    [1,1,0,0,0,0,1,0,1,0,0,1,0,0,0,0],\n",
    "    [0,1,1,1,0,0,1,1,0,0,1,0,0,0,1,0],\n",
    "    [0,1,0,0,1,1,0,0,0,0,0,0,1,0,1,1],\n",
    "    [0,0,1,1,0,1,0,0,0,0,0,0,0,1,1,1],\n",
    "    [1,0,0,0,1,0,0,0,0,1,1,0,0,0,0,1],\n",
    "    [1,1,0,0,0,0,0,0,1,0,0,1,0,0,0,1],\n",
    "    [1,0,1,0,0,1,0,0,1,0,0,1,0,0,0,1],\n",
    "    [1,1,0,0,1,0,0,0,0,1,1,0,1,0,0,0],\n",
    "    [0,0,0,0,0,0,1,0,0,0,0,1,0,1,1,0],\n",
    "    [0,0,1,1,0,0,0,1,0,0,0,0,1,0,1,0],\n",
    "    [0,0,1,1,0,1,1,1,0,0,0,0,1,1,0,0],\n",
    "    [0,0,0,0,0,0,1,1,1,1,1,0,0,0,0,0]\n",
    "])\n",
    "\n",
    "res = si(fm, 2)\n",
    "print(res) "
   ]
  },
  {
   "cell_type": "code",
   "execution_count": 30,
   "id": "f518ba0f-a96a-4bd4-a891-55057bb94705",
   "metadata": {},
   "outputs": [],
   "source": [
    "# For Q1 \n",
    "import numpy as np\n",
    "\n",
    "def pi(s, x0, itr):\n",
    "    x = x0\n",
    "    for i in range(itr):\n",
    "        x = np.dot(s, x)\n",
    "        x /= np.linalg.norm(x)\n",
    "    a = np.linalg.norm(np.dot(s, x)) / np.linalg.norm(x)\n",
    "    return x, a"
   ]
  },
  {
   "cell_type": "code",
   "execution_count": 31,
   "id": "bb3418c8-361c-4b20-841d-36e87ba5a342",
   "metadata": {},
   "outputs": [
    {
     "name": "stdout",
     "output_type": "stream",
     "text": [
      "a5 = [-0.70710678  0.          0.70710678]\n",
      "alpha = 1.7320508075688774\n",
      "b5 = [ 0.          0.70710678 -0.70710678]\n",
      "alpha = 1.7320508075688774\n"
     ]
    }
   ],
   "source": [
    "s = np.array([\n",
    "    [-1, 0, 1],\n",
    "    [ 0, 1,-1],\n",
    "    [ 1,-1, 0]\n",
    "], dtype=float)\n",
    "\n",
    "a0 = np.array([1., 0., 0.])\n",
    "a5, alpha_a = pi(s, a0, 5)\n",
    "print(\"a5 =\", a5)\n",
    "print(\"alpha =\", alpha_a)\n",
    "\n",
    "b0 = np.array([0., 1., 0.])\n",
    "b5, alpha_b = pi(s, b0, 5)\n",
    "print(\"b5 =\", b5)\n",
    "print(\"alpha =\", alpha_b)"
   ]
  },
  {
   "cell_type": "code",
   "execution_count": 34,
   "id": "762e4d0c-f0fa-4a22-a33d-517ec14d9037",
   "metadata": {},
   "outputs": [
    {
     "name": "stdout",
     "output_type": "stream",
     "text": [
      "c5_1 = [ 0.21758446 -0.77708734  0.59058638]\n",
      "alpha = 2.7316360937709603\n",
      "c5_2 = [-0.20825381  0.79136447 -0.57478051]\n",
      "alpha = 2.7320232701110516\n",
      "d = [ 4.84618038e-16  9.59072436e-01 -2.83160843e-01]\n",
      "alpha = 2.543436736180371\n"
     ]
    }
   ],
   "source": [
    "s = np.array([\n",
    "    [-1, 0, 1],\n",
    "    [0, 1,-1],\n",
    "    [1,-1, 0]\n",
    "])\n",
    "\n",
    "sp = s + np.identity(3);\n",
    "\n",
    "c0_1 = np.array([1., 0., 0.])\n",
    "c5_1, alpha_c1 = pi(sp, c0_1, 5)\n",
    "print(\"c5_1 =\", c5_1)\n",
    "print(\"alpha =\", alpha_c1)\n",
    "\n",
    "c0_2 = np.array([0., 1., 0.])\n",
    "c5_2, alpha_c2 = pi(sp, c0_2, 5)\n",
    "print(\"c5_2 =\", c5_2)\n",
    "print(\"alpha =\", alpha_c2)\n",
    "\n",
    "d0 = np.random.randn(3)\n",
    "d0 -= np.dot(d0, c5_1) * c5_1\n",
    "d0 /= np.linalg.norm(d0)\n",
    "d5, alpha_d = pi(sp, d0, 5)\n",
    "print(\"d =\", d5)\n",
    "print(\"alpha =\", alpha_d)"
   ]
  }
 ],
 "metadata": {
  "kernelspec": {
   "display_name": "Python [conda env:base] *",
   "language": "python",
   "name": "conda-base-py"
  },
  "language_info": {
   "codemirror_mode": {
    "name": "ipython",
    "version": 3
   },
   "file_extension": ".py",
   "mimetype": "text/x-python",
   "name": "python",
   "nbconvert_exporter": "python",
   "pygments_lexer": "ipython3",
   "version": "3.13.5"
  }
 },
 "nbformat": 4,
 "nbformat_minor": 5
}
